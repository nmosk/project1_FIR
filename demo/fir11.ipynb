{
 "cells": [
  {
   "cell_type": "code",
   "execution_count": 128,
   "id": "cc7687ee",
   "metadata": {},
   "outputs": [
    {
     "name": "stderr",
     "output_type": "stream",
     "text": [
      "Matplotlib is building the font cache; this may take a moment.\n"
     ]
    }
   ],
   "source": [
    "from pynq import Overlay\n",
    "from pynq import MMIO\n",
    "import matplotlib.pyplot as plt"
   ]
  },
  {
   "cell_type": "code",
   "execution_count": 2,
   "id": "217cf49c",
   "metadata": {},
   "outputs": [
    {
     "data": {
      "application/javascript": [
       "\n",
       "try {\n",
       "require(['notebook/js/codecell'], function(codecell) {\n",
       "  codecell.CodeCell.options_default.highlight_modes[\n",
       "      'magic_text/x-csrc'] = {'reg':[/^%%microblaze/]};\n",
       "  Jupyter.notebook.events.one('kernel_ready.Kernel', function(){\n",
       "      Jupyter.notebook.get_cells().map(function(cell){\n",
       "          if (cell.cell_type == 'code'){ cell.auto_highlight(); } }) ;\n",
       "  });\n",
       "});\n",
       "} catch (e) {};\n"
      ]
     },
     "metadata": {},
     "output_type": "display_data"
    },
    {
     "data": {
      "application/javascript": [
       "\n",
       "try {\n",
       "require(['notebook/js/codecell'], function(codecell) {\n",
       "  codecell.CodeCell.options_default.highlight_modes[\n",
       "      'magic_text/x-csrc'] = {'reg':[/^%%pybind11/]};\n",
       "  Jupyter.notebook.events.one('kernel_ready.Kernel', function(){\n",
       "      Jupyter.notebook.get_cells().map(function(cell){\n",
       "          if (cell.cell_type == 'code'){ cell.auto_highlight(); } }) ;\n",
       "  });\n",
       "});\n",
       "} catch (e) {};\n"
      ]
     },
     "metadata": {},
     "output_type": "display_data"
    }
   ],
   "source": [
    "ol = Overlay(\"./design_1_wrapper.bit\") # designate a bitstream to be flashed to the FPGA"
   ]
  },
  {
   "cell_type": "code",
   "execution_count": 3,
   "id": "b470de3e",
   "metadata": {},
   "outputs": [],
   "source": [
    "ol.download() # flash the FPGA"
   ]
  },
  {
   "cell_type": "code",
   "execution_count": 4,
   "id": "dc305a7b",
   "metadata": {},
   "outputs": [],
   "source": [
    "fir11_ip = MMIO(0x40000000, 0x10000) # (IP_BASE_ADDRESS, ADDRESS_RANGE), told to us in Vivado"
   ]
  },
  {
   "cell_type": "code",
   "execution_count": 5,
   "id": "8f6bb3e5",
   "metadata": {},
   "outputs": [],
   "source": [
    "inp = 100 # test input"
   ]
  },
  {
   "cell_type": "code",
   "execution_count": 6,
   "id": "979f391b",
   "metadata": {},
   "outputs": [],
   "source": [
    "fir11_ip.write(0x20, inp) # write input value to input address in fabric; 0x20 is x \"data signal\" according to fir_control_s_axi"
   ]
  },
  {
   "cell_type": "code",
   "execution_count": 7,
   "id": "890c4e58",
   "metadata": {},
   "outputs": [],
   "source": [
    "# now I think if I read the output from Y, we should see first filtered value. I think the coefficients start with 53"
   ]
  },
  {
   "cell_type": "code",
   "execution_count": 8,
   "id": "9b5d75df",
   "metadata": {},
   "outputs": [],
   "source": [
    "# so y should read 530 because a 10 was written to x"
   ]
  },
  {
   "cell_type": "code",
   "execution_count": 9,
   "id": "ad059e06",
   "metadata": {},
   "outputs": [
    {
     "name": "stdout",
     "output_type": "stream",
     "text": [
      "x: 100\n"
     ]
    }
   ],
   "source": [
    "print(\"x:\", fir11_ip.read(0x20)) # check x"
   ]
  },
  {
   "cell_type": "code",
   "execution_count": 10,
   "id": "cfad3fc2",
   "metadata": {},
   "outputs": [],
   "source": [
    "fir11_ip.write(0x00, 1) # set ap_start to 1 which initiates the process - wait? Should this be a 0 to start?"
   ]
  },
  {
   "cell_type": "code",
   "execution_count": 11,
   "id": "39669104",
   "metadata": {},
   "outputs": [
    {
     "name": "stdout",
     "output_type": "stream",
     "text": [
      "y: 5300\n"
     ]
    }
   ],
   "source": [
    "print(\"y:\", fir11_ip.read(0x10)) # read corresponding output value from the output address of the fabric"
   ]
  },
  {
   "cell_type": "code",
   "execution_count": 12,
   "id": "cea4ad85",
   "metadata": {},
   "outputs": [],
   "source": [
    "# holy crap it works"
   ]
  },
  {
   "cell_type": "code",
   "execution_count": 13,
   "id": "d96db08b",
   "metadata": {},
   "outputs": [],
   "source": [
    "# now, I can either keep adding x values to understand it or work on getting python to IOstream our input.dat file..."
   ]
  },
  {
   "cell_type": "code",
   "execution_count": 56,
   "id": "d0e387dc",
   "metadata": {},
   "outputs": [
    {
     "name": "stdout",
     "output_type": "stream",
     "text": [
      "new x: 97\n",
      "y check: 871\n",
      "new y: 45541\n"
     ]
    }
   ],
   "source": [
    "inp = 97\n",
    "fir11_ip.write(0x20, inp)\n",
    "print(\"new x:\", fir11_ip.read(0x20))\n",
    "print(\"y check:\",fir11_ip.read(0x10))\n",
    "fir11_ip.write(0x00, 1)\n",
    "out = fir11_ip.read(0x10)\n",
    "if (out > 2147483648):\n",
    "    out = out - (1 << 32)\n",
    "print(\"new y:\", out)"
   ]
  },
  {
   "cell_type": "code",
   "execution_count": 29,
   "id": "488c9b39",
   "metadata": {},
   "outputs": [
    {
     "name": "stdout",
     "output_type": "stream",
     "text": [
      "new y: 4294967190\n"
     ]
    }
   ],
   "source": [
    "print(\"new y:\", int(fir11_ip.read(0x10)))"
   ]
  },
  {
   "cell_type": "code",
   "execution_count": 32,
   "id": "dc369e94",
   "metadata": {},
   "outputs": [
    {
     "data": {
      "text/plain": [
       "-106"
      ]
     },
     "execution_count": 32,
     "metadata": {},
     "output_type": "execute_result"
    }
   ],
   "source": [
    "int(-2)+(1 << 32)\n",
    "4294967190 - (1 << 32) #practice conversion"
   ]
  },
  {
   "cell_type": "code",
   "execution_count": 50,
   "id": "bf175d21",
   "metadata": {},
   "outputs": [
    {
     "name": "stdout",
     "output_type": "stream",
     "text": [
      "-2\n"
     ]
    }
   ],
   "source": [
    "test = 4294967294\n",
    "if (test > 2147483648):\n",
    "    test = test - (1 << 32)\n",
    "print(test)"
   ]
  },
  {
   "cell_type": "code",
   "execution_count": 49,
   "id": "049e2727",
   "metadata": {},
   "outputs": [
    {
     "data": {
      "text/plain": [
       "2147483648"
      ]
     },
     "execution_count": 49,
     "metadata": {},
     "output_type": "execute_result"
    }
   ],
   "source": [
    "1 << 31"
   ]
  },
  {
   "cell_type": "code",
   "execution_count": 17,
   "id": "857ce8fa",
   "metadata": {},
   "outputs": [],
   "source": [
    "# still looks good because next coeff is 0 ... , lets try again with -91 as next coeff. If 10 again , will be 530 - 910 = -380?"
   ]
  },
  {
   "cell_type": "code",
   "execution_count": 111,
   "id": "154f9976",
   "metadata": {},
   "outputs": [
    {
     "name": "stdout",
     "output_type": "stream",
     "text": [
      "new x: 0\n",
      "new y: 0\n",
      "new x: 0\n",
      "new y: 0\n",
      "new x: 0\n",
      "new y: 0\n",
      "new x: 0\n",
      "new y: 0\n",
      "new x: 0\n",
      "new y: 0\n",
      "new x: 0\n",
      "new y: 0\n",
      "new x: 0\n",
      "new y: 0\n",
      "new x: 0\n",
      "new y: 0\n",
      "new x: 0\n",
      "new y: 0\n",
      "new x: 0\n",
      "new y: 0\n",
      "new x: 0\n",
      "new y: 0\n"
     ]
    }
   ],
   "source": [
    "for i in range(11):\n",
    "    inp = 0 # set x\n",
    "    fir11_ip.write(0x20, inp) # feed x\n",
    "    print(\"new x:\", fir11_ip.read(0x20)) # check x\n",
    "    fir11_ip.write(0x00, 1) # run filter\n",
    "    print(\"new y:\", fir11_ip.read(0x10)) # check y"
   ]
  },
  {
   "cell_type": "code",
   "execution_count": 110,
   "id": "7a6bb72d",
   "metadata": {},
   "outputs": [],
   "source": [
    "# uh oh undefined behavior ?"
   ]
  },
  {
   "cell_type": "code",
   "execution_count": 40,
   "id": "cec5b083",
   "metadata": {},
   "outputs": [],
   "source": [
    "# i see what's going on, we have a negative and we need a signed integer here"
   ]
  },
  {
   "cell_type": "code",
   "execution_count": 90,
   "id": "dfcd84c8",
   "metadata": {},
   "outputs": [],
   "source": [
    "file = open(\"./input.dat\",\"r\")"
   ]
  },
  {
   "cell_type": "code",
   "execution_count": 91,
   "id": "e5a9d501",
   "metadata": {},
   "outputs": [
    {
     "name": "stdout",
     "output_type": "stream",
     "text": [
      "<_io.TextIOWrapper name='./input.dat' mode='r' encoding='UTF-8'>\n"
     ]
    }
   ],
   "source": [
    "print(file)"
   ]
  },
  {
   "cell_type": "code",
   "execution_count": 92,
   "id": "527be72e",
   "metadata": {},
   "outputs": [],
   "source": [
    "read = file.readlines()\n",
    "modified = []"
   ]
  },
  {
   "cell_type": "code",
   "execution_count": 93,
   "id": "0f3a80fa",
   "metadata": {},
   "outputs": [
    {
     "name": "stdout",
     "output_type": "stream",
     "text": [
      "-37\n"
     ]
    }
   ],
   "source": [
    "for line in read:\n",
    "    if line[-1] == '\\n':\n",
    "        modified.append(line[:-1])\n",
    "    else:\n",
    "        modified.append(line)\n",
    "        \n",
    "print(line)"
   ]
  },
  {
   "cell_type": "code",
   "execution_count": 131,
   "id": "3a0bafa8",
   "metadata": {
    "scrolled": true
   },
   "outputs": [
    {
     "name": "stdout",
     "output_type": "stream",
     "text": [
      "x input:  100\tfiltered y: 5300\n",
      "x input:  -2\tfiltered y: -106\n",
      "x input:  -100\tfiltered y: -14400\n",
      "x input:  13\tfiltered y: 871\n",
      "x input:  97\tfiltered y: 45541\n",
      "x input:  -36\tfiltered y: 46283\n",
      "x input:  -86\tfiltered y: -14385\n",
      "x input:  66\tfiltered y: -39783\n",
      "x input:  59\tfiltered y: 7414\n",
      "x input:  -93\tfiltered y: 30548\n",
      "x input:  -10\tfiltered y: -6056\n",
      "x input:  98\tfiltered y: -21242\n",
      "x input:  -52\tfiltered y: 8576\n",
      "x input:  -61\tfiltered y: 12863\n",
      "x input:  97\tfiltered y: -8323\n",
      "x input:  -17\tfiltered y: -6699\n",
      "x input:  -81\tfiltered y: 6547\n",
      "x input:  90\tfiltered y: 3859\n",
      "x input:  -6\tfiltered y: -5325\n",
      "x input:  -82\tfiltered y: -2297\n",
      "x input:  92\tfiltered y: 6132\n",
      "x input:  -21\tfiltered y: -557\n",
      "x input:  -66\tfiltered y: -5684\n",
      "x input:  100\tfiltered y: 5029\n",
      "x input:  -59\tfiltered y: 1309\n",
      "x input:  -22\tfiltered y: -5596\n",
      "x input:  86\tfiltered y: 3818\n",
      "x input:  -97\tfiltered y: 820\n",
      "x input:  52\tfiltered y: -2885\n",
      "x input:  18\tfiltered y: 2260\n",
      "x input:  -77\tfiltered y: -480\n",
      "x input:  100\tfiltered y: -798\n",
      "x input:  -81\tfiltered y: -721\n",
      "x input:  32\tfiltered y: 1171\n",
      "x input:  25\tfiltered y: -1082\n",
      "x input:  -72\tfiltered y: -633\n",
      "x input:  97\tfiltered y: 3238\n",
      "x input:  -97\tfiltered y: -4552\n",
      "x input:  75\tfiltered y: 3383\n",
      "x input:  -40\tfiltered y: -1459\n",
      "x input:  0\tfiltered y: -1349\n",
      "x input:  37\tfiltered y: 3592\n",
      "x input:  -66\tfiltered y: -4730\n",
      "x input:  87\tfiltered y: 4111\n",
      "x input:  -97\tfiltered y: -3162\n",
      "x input:  100\tfiltered y: 1455\n",
      "x input:  -97\tfiltered y: -156\n",
      "x input:  90\tfiltered y: -19\n",
      "x input:  -81\tfiltered y: 990\n",
      "x input:  72\tfiltered y: 170\n",
      "x input:  -63\tfiltered y: -684\n",
      "x input:  57\tfiltered y: 1483\n",
      "x input:  -52\tfiltered y: -2408\n",
      "x input:  50\tfiltered y: 3180\n",
      "x input:  -51\tfiltered y: -3357\n",
      "x input:  54\tfiltered y: 4299\n",
      "x input:  -59\tfiltered y: -3751\n",
      "x input:  66\tfiltered y: 4293\n",
      "x input:  -75\tfiltered y: -4405\n",
      "x input:  84\tfiltered y: 4127\n",
      "x input:  -92\tfiltered y: -4088\n",
      "x input:  98\tfiltered y: 4081\n",
      "x input:  -100\tfiltered y: -3985\n",
      "x input:  95\tfiltered y: 3303\n",
      "x input:  -81\tfiltered y: -2798\n",
      "x input:  58\tfiltered y: 2251\n",
      "x input:  -25\tfiltered y: -1352\n",
      "x input:  -13\tfiltered y: 296\n",
      "x input:  52\tfiltered y: 275\n",
      "x input:  -84\tfiltered y: -346\n",
      "x input:  100\tfiltered y: 614\n",
      "x input:  -92\tfiltered y: 902\n",
      "x input:  59\tfiltered y: -1951\n",
      "x input:  -6\tfiltered y: 3450\n",
      "x input:  -51\tfiltered y: -4514\n",
      "x input:  91\tfiltered y: 4538\n",
      "x input:  -97\tfiltered y: -2790\n",
      "x input:  61\tfiltered y: 733\n",
      "x input:  6\tfiltered y: 2305\n",
      "x input:  -72\tfiltered y: -4342\n",
      "x input:  100\tfiltered y: 3861\n",
      "x input:  -70\tfiltered y: -2412\n",
      "x input:  -6\tfiltered y: 367\n",
      "x input:  79\tfiltered y: 1515\n",
      "x input:  -97\tfiltered y: -1293\n",
      "x input:  41\tfiltered y: -190\n",
      "x input:  51\tfiltered y: 265\n",
      "x input:  -100\tfiltered y: 571\n",
      "x input:  59\tfiltered y: -3035\n",
      "x input:  40\tfiltered y: 2834\n",
      "x input:  -100\tfiltered y: 1279\n",
      "x input:  54\tfiltered y: -4644\n",
      "x input:  52\tfiltered y: 4795\n",
      "x input:  -99\tfiltered y: 1015\n",
      "x input:  25\tfiltered y: -6022\n",
      "x input:  82\tfiltered y: 4050\n",
      "x input:  -81\tfiltered y: 2742\n",
      "x input:  -32\tfiltered y: -6183\n",
      "x input:  100\tfiltered y: -501\n",
      "x input:  -18\tfiltered y: 6343\n",
      "x input:  -92\tfiltered y: -536\n",
      "x input:  54\tfiltered y: -8479\n",
      "x input:  75\tfiltered y: 2775\n",
      "x input:  -75\tfiltered y: 12752\n",
      "x input:  -59\tfiltered y: -7752\n",
      "x input:  85\tfiltered y: -16144\n",
      "x input:  51\tfiltered y: 16358\n",
      "x input:  -87\tfiltered y: 18523\n",
      "x input:  -52\tfiltered y: -26217\n",
      "x input:  82\tfiltered y: -19975\n",
      "x input:  63\tfiltered y: 36366\n",
      "x input:  -70\tfiltered y: 23389\n",
      "x input:  -81\tfiltered y: -44495\n",
      "x input:  44\tfiltered y: -30573\n",
      "x input:  97\tfiltered y: 49187\n",
      "x input:  -3\tfiltered y: 43515\n",
      "x input:  -97\tfiltered y: -47167\n",
      "x input:  -50\tfiltered y: -63088\n",
      "x input:  66\tfiltered y: 30844\n",
      "x input:  93\tfiltered y: 81528\n",
      "x input:  0\tfiltered y: 3204\n",
      "x input:  -92\tfiltered y: -86142\n",
      "x input:  -75\tfiltered y: -51798\n",
      "x input:  26\tfiltered y: 58814\n",
      "x input:  97\tfiltered y: 93092\n",
      "x input:  69\tfiltered y: 5995\n",
      "x input:  -25\tfiltered y: -90774\n",
      "x input:  -95\tfiltered y: -80585\n",
      "x input:  -81\tfiltered y: 21366\n",
      "x input:  -2\tfiltered y: 100075\n",
      "x input:  77\tfiltered y: 75313\n",
      "x input:  98\tfiltered y: -22504\n",
      "x input:  52\tfiltered y: -97731\n",
      "x input:  -26\tfiltered y: -86058\n",
      "x input:  -86\tfiltered y: -4126\n",
      "x input:  -98\tfiltered y: 78022\n",
      "x input:  -59\tfiltered y: 100122\n",
      "x input:  6\tfiltered y: 52919\n",
      "x input:  66\tfiltered y: -26075\n",
      "x input:  98\tfiltered y: -86188\n",
      "x input:  92\tfiltered y: -96166\n",
      "x input:  57\tfiltered y: -56633\n",
      "x input:  6\tfiltered y: 7719\n",
      "x input:  -44\tfiltered y: 65573\n",
      "x input:  -81\tfiltered y: 94426\n",
      "x input:  -99\tfiltered y: 87532\n",
      "x input:  -97\tfiltered y: 52271\n",
      "x input:  -79\tfiltered y: 3291\n",
      "x input:  -52\tfiltered y: -44278\n",
      "x input:  -21\tfiltered y: -79176\n",
      "x input:  10\tfiltered y: -95622\n",
      "x input:  37\tfiltered y: -93317\n",
      "x input:  59\tfiltered y: -76231\n",
      "x input:  75\tfiltered y: -50015\n",
      "x input:  86\tfiltered y: -19923\n",
      "x input:  93\tfiltered y: 10054\n",
      "x input:  97\tfiltered y: 37003\n",
      "x input:  99\tfiltered y: 59064\n",
      "x input:  100\tfiltered y: 75692\n",
      "x input:  100\tfiltered y: 87395\n",
      "x input:  100\tfiltered y: 95140\n",
      "x input:  100\tfiltered y: 99932\n",
      "x input:  100\tfiltered y: 102662\n",
      "x input:  99\tfiltered y: 103946\n",
      "x input:  97\tfiltered y: 104372\n",
      "x input:  93\tfiltered y: 104440\n",
      "x input:  86\tfiltered y: 104372\n",
      "x input:  75\tfiltered y: 103946\n",
      "x input:  59\tfiltered y: 102662\n",
      "x input:  37\tfiltered y: 99932\n",
      "x input:  10\tfiltered y: 95140\n",
      "x input:  -21\tfiltered y: 87395\n",
      "x input:  -52\tfiltered y: 75692\n",
      "x input:  -79\tfiltered y: 59064\n",
      "x input:  -97\tfiltered y: 37003\n",
      "x input:  -99\tfiltered y: 10054\n",
      "x input:  -81\tfiltered y: -19923\n",
      "x input:  -44\tfiltered y: -50015\n",
      "x input:  6\tfiltered y: -76231\n",
      "x input:  57\tfiltered y: -93317\n",
      "x input:  92\tfiltered y: -95622\n",
      "x input:  98\tfiltered y: -79176\n",
      "x input:  66\tfiltered y: -44278\n",
      "x input:  6\tfiltered y: 3291\n",
      "x input:  -59\tfiltered y: 52271\n",
      "x input:  -98\tfiltered y: 87532\n",
      "x input:  -86\tfiltered y: 94426\n",
      "x input:  -26\tfiltered y: 65573\n",
      "x input:  52\tfiltered y: 7719\n",
      "x input:  98\tfiltered y: -56633\n",
      "x input:  77\tfiltered y: -96166\n",
      "x input:  -2\tfiltered y: -86188\n",
      "x input:  -81\tfiltered y: -26075\n",
      "x input:  -95\tfiltered y: 52919\n",
      "x input:  -25\tfiltered y: 100122\n",
      "x input:  69\tfiltered y: 78022\n",
      "x input:  97\tfiltered y: -4126\n",
      "x input:  26\tfiltered y: -86058\n",
      "x input:  -75\tfiltered y: -97731\n",
      "x input:  -92\tfiltered y: -22504\n",
      "x input:  0\tfiltered y: 75313\n",
      "x input:  93\tfiltered y: 100075\n",
      "x input:  66\tfiltered y: 21366\n",
      "x input:  -50\tfiltered y: -80585\n",
      "x input:  -97\tfiltered y: -90774\n",
      "x input:  -3\tfiltered y: 5995\n",
      "x input:  97\tfiltered y: 93092\n",
      "x input:  44\tfiltered y: 58814\n",
      "x input:  -81\tfiltered y: -51798\n",
      "x input:  -70\tfiltered y: -86142\n",
      "x input:  63\tfiltered y: 3204\n",
      "x input:  82\tfiltered y: 81528\n",
      "x input:  -52\tfiltered y: 30844\n",
      "x input:  -87\tfiltered y: -63088\n",
      "x input:  51\tfiltered y: -47167\n",
      "x input:  85\tfiltered y: 43515\n",
      "x input:  -59\tfiltered y: 49187\n",
      "x input:  -75\tfiltered y: -30573\n",
      "x input:  75\tfiltered y: -44495\n",
      "x input:  54\tfiltered y: 23389\n",
      "x input:  -92\tfiltered y: 36366\n",
      "x input:  -18\tfiltered y: -19975\n",
      "x input:  100\tfiltered y: -26217\n",
      "x input:  -32\tfiltered y: 18523\n",
      "x input:  -81\tfiltered y: 16358\n",
      "x input:  82\tfiltered y: -16144\n",
      "x input:  25\tfiltered y: -7752\n",
      "x input:  -99\tfiltered y: 12752\n",
      "x input:  52\tfiltered y: 2775\n",
      "x input:  54\tfiltered y: -8479\n",
      "x input:  -100\tfiltered y: -536\n",
      "x input:  40\tfiltered y: 6343\n",
      "x input:  59\tfiltered y: -501\n",
      "x input:  -100\tfiltered y: -6183\n",
      "x input:  51\tfiltered y: 2742\n",
      "x input:  41\tfiltered y: 4050\n",
      "x input:  -97\tfiltered y: -6022\n",
      "x input:  79\tfiltered y: 1015\n",
      "x input:  -6\tfiltered y: 4795\n",
      "x input:  -70\tfiltered y: -4644\n",
      "x input:  100\tfiltered y: 1279\n",
      "x input:  -72\tfiltered y: 2834\n",
      "x input:  6\tfiltered y: -3035\n",
      "x input:  61\tfiltered y: 571\n",
      "x input:  -97\tfiltered y: 265\n",
      "x input:  91\tfiltered y: -190\n",
      "x input:  -51\tfiltered y: -1293\n",
      "x input:  -6\tfiltered y: 1515\n",
      "x input:  59\tfiltered y: 367\n",
      "x input:  -92\tfiltered y: -2412\n",
      "x input:  100\tfiltered y: 3861\n",
      "x input:  -84\tfiltered y: -4342\n",
      "x input:  52\tfiltered y: 2305\n",
      "x input:  -13\tfiltered y: 733\n",
      "x input:  -25\tfiltered y: -2790\n",
      "x input:  58\tfiltered y: 4538\n",
      "x input:  -81\tfiltered y: -4514\n",
      "x input:  95\tfiltered y: 3450\n",
      "x input:  -100\tfiltered y: -1951\n",
      "x input:  98\tfiltered y: 902\n",
      "x input:  -92\tfiltered y: 614\n",
      "x input:  84\tfiltered y: -346\n",
      "x input:  -75\tfiltered y: 275\n",
      "x input:  66\tfiltered y: 296\n",
      "x input:  -59\tfiltered y: -1352\n",
      "x input:  54\tfiltered y: 2251\n",
      "x input:  -51\tfiltered y: -2798\n",
      "x input:  50\tfiltered y: 3303\n",
      "x input:  -52\tfiltered y: -3985\n",
      "x input:  57\tfiltered y: 4081\n",
      "x input:  -63\tfiltered y: -4088\n",
      "x input:  72\tfiltered y: 4127\n",
      "x input:  -81\tfiltered y: -4405\n",
      "x input:  90\tfiltered y: 4293\n",
      "x input:  -97\tfiltered y: -3751\n",
      "x input:  100\tfiltered y: 4299\n",
      "x input:  -97\tfiltered y: -3357\n",
      "x input:  87\tfiltered y: 3180\n",
      "x input:  -66\tfiltered y: -2408\n",
      "x input:  37\tfiltered y: 1483\n",
      "x input:  0\tfiltered y: -684\n",
      "x input:  -40\tfiltered y: 170\n",
      "x input:  75\tfiltered y: 990\n",
      "x input:  -97\tfiltered y: -19\n",
      "x input:  97\tfiltered y: -156\n",
      "x input:  -72\tfiltered y: 1455\n",
      "x input:  25\tfiltered y: -3162\n",
      "x input:  32\tfiltered y: 4111\n",
      "x input:  -81\tfiltered y: -4730\n",
      "x input:  100\tfiltered y: 3592\n",
      "x input:  -77\tfiltered y: -1349\n",
      "x input:  18\tfiltered y: -1459\n",
      "x input:  52\tfiltered y: 3383\n",
      "x input:  -97\tfiltered y: -4552\n",
      "x input:  86\tfiltered y: 3238\n",
      "x input:  -22\tfiltered y: -633\n",
      "x input:  -59\tfiltered y: -1082\n",
      "x input:  100\tfiltered y: 1171\n",
      "x input:  -66\tfiltered y: -721\n",
      "x input:  -21\tfiltered y: -798\n",
      "x input:  92\tfiltered y: -480\n",
      "x input:  -82\tfiltered y: 2260\n",
      "x input:  -6\tfiltered y: -2885\n",
      "x input:  90\tfiltered y: 820\n",
      "x input:  -81\tfiltered y: 3818\n",
      "x input:  -17\tfiltered y: -5596\n",
      "x input:  97\tfiltered y: 1309\n",
      "x input:  -61\tfiltered y: 5029\n",
      "x input:  -52\tfiltered y: -5684\n",
      "x input:  98\tfiltered y: -557\n",
      "x input:  -10\tfiltered y: 6132\n",
      "x input:  -93\tfiltered y: -2297\n",
      "x input:  59\tfiltered y: -5325\n",
      "x input:  66\tfiltered y: 3859\n",
      "x input:  -86\tfiltered y: 6547\n",
      "x input:  -36\tfiltered y: -6699\n",
      "x input:  97\tfiltered y: -8323\n",
      "x input:  13\tfiltered y: 12863\n",
      "x input:  -100\tfiltered y: 8576\n",
      "x input:  -2\tfiltered y: -21242\n",
      "x input:  100\tfiltered y: -6056\n",
      "x input:  2\tfiltered y: 30654\n",
      "x input:  -100\tfiltered y: 2114\n",
      "x input:  -13\tfiltered y: -40654\n",
      "x input:  97\tfiltered y: -144\n",
      "x input:  36\tfiltered y: 50000\n",
      "x input:  -86\tfiltered y: 1856\n",
      "x input:  -66\tfiltered y: -59346\n",
      "x input:  59\tfiltered y: -10886\n",
      "x input:  93\tfiltered y: 66346\n",
      "x input:  -10\tfiltered y: 29944\n",
      "x input:  -98\tfiltered y: -64758\n",
      "x input:  -52\tfiltered y: -57424\n",
      "x input:  61\tfiltered y: 46137\n",
      "x input:  97\tfiltered y: 84677\n",
      "x input:  17\tfiltered y: -3301\n",
      "x input:  -81\tfiltered y: -91453\n",
      "x input:  -90\tfiltered y: -55859\n",
      "x input:  -6\tfiltered y: 55675\n",
      "x input:  82\tfiltered y: 99297\n",
      "x input:  92\tfiltered y: 23132\n",
      "x input:  21\tfiltered y: -80443\n",
      "x input:  -66\tfiltered y: -95684\n",
      "x input:  -100\tfiltered y: -11029\n",
      "x input:  -59\tfiltered y: 83309\n",
      "x input:  22\tfiltered y: 97596\n",
      "x input:  86\tfiltered y: 24818\n",
      "x input:  97\tfiltered y: -66820\n",
      "x input:  52\tfiltered y: -102885\n",
      "x input:  -18\tfiltered y: -61260\n",
      "x input:  -77\tfiltered y: 21520\n",
      "x input:  -100\tfiltered y: 86798\n",
      "x input:  -81\tfiltered y: 96279\n",
      "x input:  -32\tfiltered y: 50829\n",
      "x input:  25\tfiltered y: -19082\n",
      "x input:  72\tfiltered y: -76367\n",
      "x input:  97\tfiltered y: -96762\n",
      "x input:  97\tfiltered y: -76448\n",
      "x input:  75\tfiltered y: -28617\n",
      "x input:  40\tfiltered y: 26459\n",
      "x input:  0\tfiltered y: 70651\n",
      "x input:  -37\tfiltered y: 93408\n",
      "x input:  -66\tfiltered y: 92270\n",
      "x input:  -87\tfiltered y: 70889\n",
      "x input:  -97\tfiltered y: 36838\n",
      "x input:  -100\tfiltered y: -1455\n",
      "x input:  -97\tfiltered y: -37156\n",
      "x input:  -90\tfiltered y: -65981\n",
      "x input:  -81\tfiltered y: -86010\n",
      "x input:  -72\tfiltered y: -97170\n",
      "x input:  -63\tfiltered y: -100684\n",
      "x input:  -57\tfiltered y: -98483\n",
      "x input:  -52\tfiltered y: -92408\n",
      "x input:  -50\tfiltered y: -84180\n",
      "x input:  -51\tfiltered y: -75357\n",
      "x input:  -54\tfiltered y: -67299\n",
      "x input:  -59\tfiltered y: -60751\n",
      "x input:  -66\tfiltered y: -56293\n",
      "x input:  -75\tfiltered y: -54405\n",
      "x input:  -84\tfiltered y: -55127\n",
      "x input:  -92\tfiltered y: -58088\n",
      "x input:  -98\tfiltered y: -63081\n",
      "x input:  -100\tfiltered y: -69985\n",
      "x input:  -95\tfiltered y: -78303\n",
      "x input:  -81\tfiltered y: -86798\n",
      "x input:  -58\tfiltered y: -94251\n",
      "x input:  -25\tfiltered y: -99352\n",
      "x input:  13\tfiltered y: -100296\n",
      "x input:  52\tfiltered y: -94725\n",
      "x input:  84\tfiltered y: -80654\n",
      "x input:  100\tfiltered y: -57386\n",
      "x input:  92\tfiltered y: -25902\n",
      "x input:  59\tfiltered y: 11049\n",
      "x input:  6\tfiltered y: 48550\n",
      "x input:  -51\tfiltered y: 79486\n",
      "x input:  -91\tfiltered y: 95462\n",
      "x input:  -97\tfiltered y: 89210\n",
      "x input:  -61\tfiltered y: 58267\n",
      "x input:  6\tfiltered y: 8305\n",
      "x input:  72\tfiltered y: -46658\n",
      "x input:  100\tfiltered y: -87139\n",
      "x input:  70\tfiltered y: -94588\n",
      "x input:  -6\tfiltered y: -60633\n",
      "x input:  -79\tfiltered y: 4485\n",
      "x input:  -97\tfiltered y: 70707\n",
      "x input:  -41\tfiltered y: 100190\n",
      "x input:  51\tfiltered y: 70265\n",
      "x input:  100\tfiltered y: -6571\n",
      "x input:  59\tfiltered y: -82035\n",
      "x input:  -40\tfiltered y: -99834\n",
      "x input:  -100\tfiltered y: -39721\n",
      "x input:  -54\tfiltered y: 55644\n",
      "x input:  52\tfiltered y: 104795\n",
      "x input:  99\tfiltered y: 57985\n",
      "x input:  25\tfiltered y: -46022\n",
      "x input:  -82\tfiltered y: -104050\n",
      "x input:  -81\tfiltered y: -51258\n",
      "x input:  32\tfiltered y: 58183\n",
      "x input:  100\tfiltered y: 98499\n",
      "x input:  18\tfiltered y: 18657\n",
      "x input:  -92\tfiltered y: -82536\n",
      "x input:  -54\tfiltered y: -72521\n",
      "x input:  75\tfiltered y: 34775\n",
      "x input:  75\tfiltered y: 87248\n",
      "x input:  -59\tfiltered y: 10248\n",
      "x input:  -85\tfiltered y: -75856\n",
      "x input:  51\tfiltered y: -37642\n",
      "x input:  87\tfiltered y: 56477\n",
      "x input:  -52\tfiltered y: 48783\n",
      "x input:  -82\tfiltered y: -39025\n",
      "x input:  63\tfiltered y: -48634\n",
      "x input:  70\tfiltered y: 27611\n",
      "x input:  -81\tfiltered y: 42505\n",
      "x input:  -44\tfiltered y: -21427\n",
      "x input:  97\tfiltered y: -32813\n",
      "x input:  3\tfiltered y: 19485\n",
      "x input:  -97\tfiltered y: 22833\n",
      "x input:  50\tfiltered y: -17912\n",
      "x input:  66\tfiltered y: -13156\n",
      "x input:  -93\tfiltered y: 15472\n",
      "x input:  0\tfiltered y: 6204\n",
      "x input:  92\tfiltered y: -10858\n",
      "x input:  -75\tfiltered y: -1798\n",
      "x input:  -26\tfiltered y: 7186\n",
      "x input:  97\tfiltered y: 92\n",
      "x input:  -69\tfiltered y: -5995\n",
      "x input:  -25\tfiltered y: 1226\n",
      "x input:  95\tfiltered y: 5585\n",
      "x input:  -81\tfiltered y: -4634\n",
      "x input:  2\tfiltered y: -3075\n",
      "x input:  77\tfiltered y: 6313\n",
      "x input:  -98\tfiltered y: -2496\n",
      "x input:  52\tfiltered y: -2731\n",
      "x input:  26\tfiltered y: 5058\n",
      "x input:  -86\tfiltered y: -2126\n",
      "x input:  98\tfiltered y: -1022\n",
      "x input:  -59\tfiltered y: 2122\n",
      "x input:  -6\tfiltered y: -919\n",
      "x input:  66\tfiltered y: -75\n",
      "x input:  -98\tfiltered y: 188\n",
      "x input:  92\tfiltered y: 1834\n",
      "x input:  -57\tfiltered y: -2367\n",
      "x input:  6\tfiltered y: 1719\n",
      "x input:  44\tfiltered y: 427\n",
      "x input:  -81\tfiltered y: -3574\n",
      "x input:  99\tfiltered y: 4468\n",
      "x input:  -97\tfiltered y: -4729\n",
      "x input:  79\tfiltered y: 2709\n",
      "x input:  -52\tfiltered y: -278\n",
      "x input:  21\tfiltered y: -1824\n",
      "x input:  10\tfiltered y: 3378\n",
      "x input:  -37\tfiltered y: -3683\n",
      "x input:  59\tfiltered y: 2769\n",
      "x input:  -75\tfiltered y: -1985\n",
      "x input:  86\tfiltered y: 1077\n",
      "x input:  -93\tfiltered y: -54\n",
      "x input:  97\tfiltered y: 3\n",
      "x input:  -99\tfiltered y: -64\n",
      "x input:  100\tfiltered y: 692\n",
      "x input:  -100\tfiltered y: -1395\n",
      "x input:  100\tfiltered y: 2140\n",
      "x input:  -100\tfiltered y: -2932\n",
      "x input:  100\tfiltered y: 3662\n",
      "x input:  -99\tfiltered y: -3946\n",
      "x input:  97\tfiltered y: 4372\n",
      "x input:  -93\tfiltered y: -4440\n",
      "x input:  86\tfiltered y: 4372\n",
      "x input:  -75\tfiltered y: -3946\n",
      "x input:  59\tfiltered y: 3662\n",
      "x input:  -37\tfiltered y: -2932\n",
      "x input:  10\tfiltered y: 2140\n",
      "x input:  21\tfiltered y: -1395\n",
      "x input:  -52\tfiltered y: 692\n",
      "x input:  79\tfiltered y: -64\n",
      "x input:  -97\tfiltered y: 3\n",
      "x input:  99\tfiltered y: -54\n",
      "x input:  -81\tfiltered y: 1077\n",
      "x input:  44\tfiltered y: -1985\n",
      "x input:  6\tfiltered y: 2769\n",
      "x input:  -57\tfiltered y: -3683\n",
      "x input:  92\tfiltered y: 3378\n",
      "x input:  -98\tfiltered y: -1824\n",
      "x input:  66\tfiltered y: -278\n",
      "x input:  -6\tfiltered y: 2709\n",
      "x input:  -59\tfiltered y: -4729\n",
      "x input:  98\tfiltered y: 4468\n",
      "x input:  -86\tfiltered y: -3574\n",
      "x input:  26\tfiltered y: 427\n",
      "x input:  52\tfiltered y: 1719\n",
      "x input:  -98\tfiltered y: -2367\n",
      "x input:  77\tfiltered y: 1834\n",
      "x input:  2\tfiltered y: 188\n",
      "x input:  -81\tfiltered y: -75\n",
      "x input:  95\tfiltered y: -919\n",
      "x input:  -25\tfiltered y: 2122\n",
      "x input:  -69\tfiltered y: -1022\n",
      "x input:  97\tfiltered y: -2126\n",
      "x input:  -26\tfiltered y: 5058\n",
      "x input:  -75\tfiltered y: -2731\n",
      "x input:  92\tfiltered y: -2496\n",
      "x input:  0\tfiltered y: 6313\n",
      "x input:  -93\tfiltered y: -3075\n",
      "x input:  66\tfiltered y: -4634\n",
      "x input:  50\tfiltered y: 5585\n",
      "x input:  -97\tfiltered y: 1226\n",
      "x input:  3\tfiltered y: -5995\n",
      "x input:  97\tfiltered y: 92\n",
      "x input:  -44\tfiltered y: 7186\n",
      "x input:  -81\tfiltered y: -1798\n",
      "x input:  70\tfiltered y: -10858\n",
      "x input:  63\tfiltered y: 6204\n",
      "x input:  -82\tfiltered y: 15472\n",
      "x input:  -52\tfiltered y: -13156\n",
      "x input:  87\tfiltered y: -17912\n",
      "x input:  51\tfiltered y: 22833\n",
      "x input:  -85\tfiltered y: 19485\n",
      "x input:  -59\tfiltered y: -32813\n",
      "x input:  75\tfiltered y: -21427\n",
      "x input:  75\tfiltered y: 42505\n",
      "x input:  -54\tfiltered y: 27611\n",
      "x input:  -92\tfiltered y: -48634\n",
      "x input:  18\tfiltered y: -39025\n",
      "x input:  100\tfiltered y: 48783\n",
      "x input:  32\tfiltered y: 56477\n",
      "x input:  -81\tfiltered y: -37642\n",
      "x input:  -82\tfiltered y: -75856\n",
      "x input:  25\tfiltered y: 10248\n",
      "x input:  99\tfiltered y: 87248\n",
      "x input:  52\tfiltered y: 34775\n",
      "x input:  -54\tfiltered y: -72521\n",
      "x input:  -100\tfiltered y: -82536\n",
      "x input:  -40\tfiltered y: 18657\n",
      "x input:  59\tfiltered y: 98499\n",
      "x input:  100\tfiltered y: 58183\n",
      "x input:  51\tfiltered y: -51258\n",
      "x input:  -41\tfiltered y: -104050\n",
      "x input:  -97\tfiltered y: -46022\n",
      "x input:  -79\tfiltered y: 57985\n",
      "x input:  -6\tfiltered y: 104795\n",
      "x input:  70\tfiltered y: 55644\n",
      "x input:  100\tfiltered y: -39721\n",
      "x input:  72\tfiltered y: -99834\n",
      "x input:  6\tfiltered y: -82035\n",
      "x input:  -61\tfiltered y: -6571\n",
      "x input:  -97\tfiltered y: 70265\n",
      "x input:  -91\tfiltered y: 100190\n",
      "x input:  -51\tfiltered y: 70707\n",
      "x input:  6\tfiltered y: 4485\n",
      "x input:  59\tfiltered y: -60633\n",
      "x input:  92\tfiltered y: -94588\n",
      "x input:  100\tfiltered y: -87139\n",
      "x input:  84\tfiltered y: -46658\n",
      "x input:  52\tfiltered y: 8305\n",
      "x input:  13\tfiltered y: 58267\n",
      "x input:  -25\tfiltered y: 89210\n",
      "x input:  -58\tfiltered y: 95462\n",
      "x input:  -81\tfiltered y: 79486\n",
      "x input:  -95\tfiltered y: 48550\n",
      "x input:  -100\tfiltered y: 11049\n",
      "x input:  -98\tfiltered y: -25902\n",
      "x input:  -92\tfiltered y: -57386\n",
      "x input:  -84\tfiltered y: -80654\n",
      "x input:  -75\tfiltered y: -94725\n",
      "x input:  -66\tfiltered y: -100296\n",
      "x input:  -59\tfiltered y: -99352\n",
      "x input:  -54\tfiltered y: -94251\n",
      "x input:  -51\tfiltered y: -86798\n",
      "x input:  -50\tfiltered y: -78303\n",
      "x input:  -52\tfiltered y: -69985\n",
      "x input:  -57\tfiltered y: -63081\n",
      "x input:  -63\tfiltered y: -58088\n",
      "x input:  -72\tfiltered y: -55127\n",
      "x input:  -81\tfiltered y: -54405\n",
      "x input:  -90\tfiltered y: -56293\n",
      "x input:  -97\tfiltered y: -60751\n",
      "x input:  -100\tfiltered y: -67299\n",
      "x input:  -97\tfiltered y: -75357\n",
      "x input:  -87\tfiltered y: -84180\n",
      "x input:  -66\tfiltered y: -92408\n",
      "x input:  -37\tfiltered y: -98483\n",
      "x input:  0\tfiltered y: -100684\n",
      "x input:  0\tfiltered y: -99290\n",
      "x input:  0\tfiltered y: -89985\n",
      "x input:  0\tfiltered y: -67482\n",
      "x input:  0\tfiltered y: -35472\n",
      "x input:  0\tfiltered y: -8964\n",
      "x input:  0\tfiltered y: 865\n",
      "x input:  0\tfiltered y: -1244\n",
      "x input:  0\tfiltered y: -3498\n",
      "x input:  0\tfiltered y: -1961\n",
      "x input:  0\tfiltered y: 0\n"
     ]
    }
   ],
   "source": [
    "x_in = []\n",
    "y_out = []\n",
    "sample = []\n",
    "count = 0\n",
    "# run filter\n",
    "for x in modified:\n",
    "    sample.append(count)\n",
    "    count = count+1\n",
    "    inp = int(x) # set x\n",
    "    print(\"x input: \", inp, end='\\t')\n",
    "    x_in.append(inp)\n",
    "    fir11_ip.write(0x20, inp) # feed x\n",
    "    fir11_ip.write(0x00, 1) # run filter\n",
    "    y = fir11_ip.read(0x10)\n",
    "    if (y > 2147483648):\n",
    "        y = y - (1 << 32)\n",
    "    print(\"filtered y:\", y) # check y\n",
    "    y_out.append(y)\n",
    "    \n",
    "# clear filter\n",
    "for i in range(11):\n",
    "    sample.append(count)\n",
    "    count = count+1\n",
    "    inp = 0 # set x\n",
    "    fir11_ip.write(0x20, inp) # feed x\n",
    "    print(\"x input: \", inp, end='\\t')\n",
    "    x_in.append(inp)\n",
    "    fir11_ip.write(0x00, 1) # run filter\n",
    "    y = fir11_ip.read(0x10)\n",
    "    if (y > 2147483648):\n",
    "        y = y - (1 << 32)\n",
    "    print(\"filtered y:\", y) # check y\n",
    "    y_out.append(y)"
   ]
  },
  {
   "cell_type": "code",
   "execution_count": 139,
   "id": "e5d90ee3",
   "metadata": {},
   "outputs": [
    {
     "data": {
      "text/plain": [
       "[<matplotlib.lines.Line2D at 0xa84239a0>]"
      ]
     },
     "execution_count": 139,
     "metadata": {},
     "output_type": "execute_result"
    },
    {
     "data": {
      "image/png": "[encoded data removed]",
      "text/plain": [
       "<Figure size 432x288 with 1 Axes>"
      ]
     },
     "metadata": {
      "needs_background": "light"
     },
     "output_type": "display_data"
    }
   ],
   "source": [
    "# Create a figure and axes object\n",
    "fig, ax = plt.subplots()\n",
    "ax.plot(sample,x_in)"
   ]
  },
  {
   "cell_type": "code",
   "execution_count": 140,
   "id": "0f9a9b74",
   "metadata": {},
   "outputs": [
    {
     "data": {
      "text/plain": [
       "[<matplotlib.lines.Line2D at 0xa83dbb68>]"
      ]
     },
     "execution_count": 140,
     "metadata": {},
     "output_type": "execute_result"
    },
    {
     "data": {
      "image/png": "[encoded data removed]",
      "text/plain": [
       "<Figure size 432x288 with 1 Axes>"
      ]
     },
     "metadata": {
      "needs_background": "light"
     },
     "output_type": "display_data"
    }
   ],
   "source": [
    "fig, ay = plt.subplots()\n",
    "ay.plot(sample,y_out)"
   ]
  },
  {
   "cell_type": "code",
   "execution_count": null,
   "id": "221869c3",
   "metadata": {},
   "outputs": [],
   "source": []
  }
 ],
 "metadata": {
  "kernelspec": {
   "display_name": "Python 3 (ipykernel)",
   "language": "python",
   "name": "python3"
  },
  "language_info": {
   "codemirror_mode": {
    "name": "ipython",
    "version": 3
   },
   "file_extension": ".py",
   "mimetype": "text/x-python",
   "name": "python",
   "nbconvert_exporter": "python",
   "pygments_lexer": "ipython3",
   "version": "3.10.4"
  }
 },
 "nbformat": 4,
 "nbformat_minor": 5
}
